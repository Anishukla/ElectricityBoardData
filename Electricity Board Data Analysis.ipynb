{
  "nbformat": 4,
  "nbformat_minor": 0,
  "metadata": {
    "colab": {
      "name": "Zenatix.ipynb",
      "provenance": [],
      "collapsed_sections": [],
      "toc_visible": true
    },
    "kernelspec": {
      "name": "python3",
      "display_name": "Python 3"
    }
  },
  "cells": [
    {
      "cell_type": "code",
      "metadata": {
        "id": "AIojFOhNSA2a",
        "colab_type": "code",
        "colab": {}
      },
      "source": [
        "# Importing the libraries\n",
        "import numpy as np\n",
        "import matplotlib.pyplot as plt\n",
        "import pandas as pd\n",
        "import seaborn as sn\n",
        "from sklearn.impute import SimpleImputer"
      ],
      "execution_count": 0,
      "outputs": []
    },
    {
      "cell_type": "code",
      "metadata": {
        "id": "F3cYBZYPTfi8",
        "colab_type": "code",
        "outputId": "3e72945f-d00f-4b9e-8f6e-bd59f8ba427a",
        "colab": {
          "base_uri": "https://localhost:8080/",
          "height": 289
        }
      },
      "source": [
        "# Getting dataset\n",
        "dataset = pd.read_csv('Assignment.csv')\n",
        "dataset.head()"
      ],
      "execution_count": 39,
      "outputs": [
        {
          "output_type": "execute_result",
          "data": {
            "text/html": [
              "<div>\n",
              "<style scoped>\n",
              "    .dataframe tbody tr th:only-of-type {\n",
              "        vertical-align: middle;\n",
              "    }\n",
              "\n",
              "    .dataframe tbody tr th {\n",
              "        vertical-align: top;\n",
              "    }\n",
              "\n",
              "    .dataframe thead th {\n",
              "        text-align: right;\n",
              "    }\n",
              "</style>\n",
              "<table border=\"1\" class=\"dataframe\">\n",
              "  <thead>\n",
              "    <tr style=\"text-align: right;\">\n",
              "      <th></th>\n",
              "      <th>Unnamed: 0</th>\n",
              "      <th>Unnamed: 1</th>\n",
              "      <th>Unnamed: 2</th>\n",
              "      <th>Unnamed: 3</th>\n",
              "      <th>Unnamed: 4</th>\n",
              "      <th>Unnamed: 5</th>\n",
              "      <th>Unnamed: 6</th>\n",
              "      <th>Unnamed: 7</th>\n",
              "      <th>Unnamed: 8</th>\n",
              "      <th>Unnamed: 9</th>\n",
              "    </tr>\n",
              "  </thead>\n",
              "  <tbody>\n",
              "    <tr>\n",
              "      <th>0</th>\n",
              "      <td>NaN</td>\n",
              "      <td>Datetime</td>\n",
              "      <td>Refrigeration Unit - 1</td>\n",
              "      <td>NaN</td>\n",
              "      <td>Refrigeration Unit - 2</td>\n",
              "      <td>NaN</td>\n",
              "      <td>Refrigeration Unit - 3</td>\n",
              "      <td>NaN</td>\n",
              "      <td>Refrigeration Unit - 4</td>\n",
              "      <td>NaN</td>\n",
              "    </tr>\n",
              "    <tr>\n",
              "      <th>1</th>\n",
              "      <td>NaN</td>\n",
              "      <td>NaN</td>\n",
              "      <td>Power</td>\n",
              "      <td>Temperature</td>\n",
              "      <td>Power</td>\n",
              "      <td>Temperature</td>\n",
              "      <td>Power</td>\n",
              "      <td>Temperature</td>\n",
              "      <td>Power</td>\n",
              "      <td>Temperature</td>\n",
              "    </tr>\n",
              "    <tr>\n",
              "      <th>2</th>\n",
              "      <td>NaN</td>\n",
              "      <td>8/1/17 0:00</td>\n",
              "      <td>2.26</td>\n",
              "      <td>4.81</td>\n",
              "      <td>3.23</td>\n",
              "      <td>0.50</td>\n",
              "      <td>0.00</td>\n",
              "      <td>8.93</td>\n",
              "      <td>0.31</td>\n",
              "      <td>3.34</td>\n",
              "    </tr>\n",
              "    <tr>\n",
              "      <th>3</th>\n",
              "      <td>NaN</td>\n",
              "      <td>8/1/17 0:01</td>\n",
              "      <td>2.20</td>\n",
              "      <td>3.90</td>\n",
              "      <td>3.19</td>\n",
              "      <td>0.25</td>\n",
              "      <td>0.00</td>\n",
              "      <td>8.90</td>\n",
              "      <td>1.34</td>\n",
              "      <td>3.44</td>\n",
              "    </tr>\n",
              "    <tr>\n",
              "      <th>4</th>\n",
              "      <td>NaN</td>\n",
              "      <td>8/1/17 0:02</td>\n",
              "      <td>2.13</td>\n",
              "      <td>3.16</td>\n",
              "      <td>3.18</td>\n",
              "      <td>0.00</td>\n",
              "      <td>0.00</td>\n",
              "      <td>8.87</td>\n",
              "      <td>2.37</td>\n",
              "      <td>2.72</td>\n",
              "    </tr>\n",
              "  </tbody>\n",
              "</table>\n",
              "</div>"
            ],
            "text/plain": [
              "   Unnamed: 0   Unnamed: 1  ...              Unnamed: 8   Unnamed: 9\n",
              "0         NaN     Datetime  ...  Refrigeration Unit - 4          NaN\n",
              "1         NaN          NaN  ...                   Power  Temperature\n",
              "2         NaN  8/1/17 0:00  ...                    0.31         3.34\n",
              "3         NaN  8/1/17 0:01  ...                    1.34         3.44\n",
              "4         NaN  8/1/17 0:02  ...                    2.37         2.72\n",
              "\n",
              "[5 rows x 10 columns]"
            ]
          },
          "metadata": {
            "tags": []
          },
          "execution_count": 39
        }
      ]
    },
    {
      "cell_type": "code",
      "metadata": {
        "id": "IF6Fl8TkBaB0",
        "colab_type": "code",
        "outputId": "7d0b67fe-20ed-4fdd-a54b-77c985241cff",
        "colab": {
          "base_uri": "https://localhost:8080/",
          "height": 204
        }
      },
      "source": [
        "#Removing *not* data\n",
        "X = dataset.iloc[2:, 1:]\n",
        "df_X = pd.DataFrame(X)\n",
        "df_X.head()"
      ],
      "execution_count": 40,
      "outputs": [
        {
          "output_type": "execute_result",
          "data": {
            "text/html": [
              "<div>\n",
              "<style scoped>\n",
              "    .dataframe tbody tr th:only-of-type {\n",
              "        vertical-align: middle;\n",
              "    }\n",
              "\n",
              "    .dataframe tbody tr th {\n",
              "        vertical-align: top;\n",
              "    }\n",
              "\n",
              "    .dataframe thead th {\n",
              "        text-align: right;\n",
              "    }\n",
              "</style>\n",
              "<table border=\"1\" class=\"dataframe\">\n",
              "  <thead>\n",
              "    <tr style=\"text-align: right;\">\n",
              "      <th></th>\n",
              "      <th>Unnamed: 1</th>\n",
              "      <th>Unnamed: 2</th>\n",
              "      <th>Unnamed: 3</th>\n",
              "      <th>Unnamed: 4</th>\n",
              "      <th>Unnamed: 5</th>\n",
              "      <th>Unnamed: 6</th>\n",
              "      <th>Unnamed: 7</th>\n",
              "      <th>Unnamed: 8</th>\n",
              "      <th>Unnamed: 9</th>\n",
              "    </tr>\n",
              "  </thead>\n",
              "  <tbody>\n",
              "    <tr>\n",
              "      <th>2</th>\n",
              "      <td>8/1/17 0:00</td>\n",
              "      <td>2.26</td>\n",
              "      <td>4.81</td>\n",
              "      <td>3.23</td>\n",
              "      <td>0.50</td>\n",
              "      <td>0.00</td>\n",
              "      <td>8.93</td>\n",
              "      <td>0.31</td>\n",
              "      <td>3.34</td>\n",
              "    </tr>\n",
              "    <tr>\n",
              "      <th>3</th>\n",
              "      <td>8/1/17 0:01</td>\n",
              "      <td>2.20</td>\n",
              "      <td>3.90</td>\n",
              "      <td>3.19</td>\n",
              "      <td>0.25</td>\n",
              "      <td>0.00</td>\n",
              "      <td>8.90</td>\n",
              "      <td>1.34</td>\n",
              "      <td>3.44</td>\n",
              "    </tr>\n",
              "    <tr>\n",
              "      <th>4</th>\n",
              "      <td>8/1/17 0:02</td>\n",
              "      <td>2.13</td>\n",
              "      <td>3.16</td>\n",
              "      <td>3.18</td>\n",
              "      <td>0.00</td>\n",
              "      <td>0.00</td>\n",
              "      <td>8.87</td>\n",
              "      <td>2.37</td>\n",
              "      <td>2.72</td>\n",
              "    </tr>\n",
              "    <tr>\n",
              "      <th>5</th>\n",
              "      <td>8/1/17 0:03</td>\n",
              "      <td>2.14</td>\n",
              "      <td>2.72</td>\n",
              "      <td>3.17</td>\n",
              "      <td>-0.22</td>\n",
              "      <td>0.00</td>\n",
              "      <td>8.81</td>\n",
              "      <td>2.23</td>\n",
              "      <td>2.13</td>\n",
              "    </tr>\n",
              "    <tr>\n",
              "      <th>6</th>\n",
              "      <td>8/1/17 0:04</td>\n",
              "      <td>1.23</td>\n",
              "      <td>2.31</td>\n",
              "      <td>3.17</td>\n",
              "      <td>-0.50</td>\n",
              "      <td>0.00</td>\n",
              "      <td>8.81</td>\n",
              "      <td>2.23</td>\n",
              "      <td>1.75</td>\n",
              "    </tr>\n",
              "  </tbody>\n",
              "</table>\n",
              "</div>"
            ],
            "text/plain": [
              "    Unnamed: 1 Unnamed: 2 Unnamed: 3  ... Unnamed: 7 Unnamed: 8 Unnamed: 9\n",
              "2  8/1/17 0:00       2.26       4.81  ...       8.93       0.31       3.34\n",
              "3  8/1/17 0:01       2.20       3.90  ...       8.90       1.34       3.44\n",
              "4  8/1/17 0:02       2.13       3.16  ...       8.87       2.37       2.72\n",
              "5  8/1/17 0:03       2.14       2.72  ...       8.81       2.23       2.13\n",
              "6  8/1/17 0:04       1.23       2.31  ...       8.81       2.23       1.75\n",
              "\n",
              "[5 rows x 9 columns]"
            ]
          },
          "metadata": {
            "tags": []
          },
          "execution_count": 40
        }
      ]
    },
    {
      "cell_type": "code",
      "metadata": {
        "id": "IltF-IFITrMC",
        "colab_type": "code",
        "outputId": "17f0f716-fdc5-4457-ff28-f90df291d82f",
        "colab": {
          "base_uri": "https://localhost:8080/",
          "height": 89
        }
      },
      "source": [
        "#Counting missing values of power\n",
        "missing_pu=['Unnamed: 2', 'Unnamed: 4', 'Unnamed: 6', 'Unnamed: 8']\n",
        "missing_punitwise=[]\n",
        "\n",
        "for i in range(4):\n",
        "  req_pu=missing_pu[i]\n",
        "  mpu = df_X[req_pu].isnull().sum()\n",
        "  print(\"Total number of missing values of Power values for Unit-\", i, \"is\", mpu)\n",
        "  missing_punitwise.append(mpu)"
      ],
      "execution_count": 41,
      "outputs": [
        {
          "output_type": "stream",
          "text": [
            "Total number of missing values of Power values for Unit- 0 is 77\n",
            "Total number of missing values of Power values for Unit- 1 is 494\n",
            "Total number of missing values of Power values for Unit- 2 is 233\n",
            "Total number of missing values of Power values for Unit- 3 is 1242\n"
          ],
          "name": "stdout"
        }
      ]
    },
    {
      "cell_type": "code",
      "metadata": {
        "id": "21quZJul83a8",
        "colab_type": "code",
        "colab": {
          "base_uri": "https://localhost:8080/",
          "height": 89
        },
        "outputId": "3e02bee2-0a43-45f5-9f9f-ed30de14b552"
      },
      "source": [
        "#Counting missing values of Temperature\n",
        "missing_tu=['Unnamed: 3', 'Unnamed: 5', 'Unnamed: 7', 'Unnamed: 9']\n",
        "missing_tunitwise=[]\n",
        "\n",
        "for i in range(4):\n",
        "  req_tu=missing_tu[i]\n",
        "  mtu = df_X[req_tu].isnull().sum()\n",
        "  print(\"Total number of missing values of Temperature values for Unit-\", i, \"is\", mtu)\n",
        "  missing_tunitwise.append(mtu)"
      ],
      "execution_count": 42,
      "outputs": [
        {
          "output_type": "stream",
          "text": [
            "Total number of missing values of Temperature values for Unit- 0 is 0\n",
            "Total number of missing values of Temperature values for Unit- 1 is 387\n",
            "Total number of missing values of Temperature values for Unit- 2 is 0\n",
            "Total number of missing values of Temperature values for Unit- 3 is 70\n"
          ],
          "name": "stdout"
        }
      ]
    },
    {
      "cell_type": "code",
      "metadata": {
        "id": "bw7j5FABnVNh",
        "colab_type": "code",
        "colab": {}
      },
      "source": [
        "#Taking care of missing data\n",
        "imputer = SimpleImputer(missing_values=np.nan, strategy='mean')\n",
        "imputer = imputer.fit(X.iloc[:, 1:])\n",
        "X.iloc[:, 1:] = imputer.transform(X.iloc[:, 1:])"
      ],
      "execution_count": 0,
      "outputs": []
    },
    {
      "cell_type": "code",
      "metadata": {
        "id": "NJs_uw4pKFt0",
        "colab_type": "code",
        "outputId": "0641ed42-7194-4214-8c3a-779e56c5e94e",
        "colab": {
          "base_uri": "https://localhost:8080/",
          "height": 306
        }
      },
      "source": [
        "#Renaming row and restarting column from index 0\n",
        "df_X = df_X.rename(columns = {'Unnamed: 1': 'DateTime', 'Unnamed: 2': 'Power U-1', 'Unnamed: 3': 'Temperature U-1', 'Unnamed: 4': 'Power U-2', 'Unnamed: 5': 'Temperature U-2', 'Unnamed: 6': 'Power U-3', 'Unnamed: 7': 'Temperature U-3', 'Unnamed: 8': 'Power U-4', 'Unnamed: 9': 'Temperature U-4'})\n",
        "l = []\n",
        "for i in range(len(df_X)):\n",
        "  l.append(i)\n",
        "\n",
        "df_X.index = l\n",
        "\n",
        "df_X.head()"
      ],
      "execution_count": 44,
      "outputs": [
        {
          "output_type": "execute_result",
          "data": {
            "text/html": [
              "<div>\n",
              "<style scoped>\n",
              "    .dataframe tbody tr th:only-of-type {\n",
              "        vertical-align: middle;\n",
              "    }\n",
              "\n",
              "    .dataframe tbody tr th {\n",
              "        vertical-align: top;\n",
              "    }\n",
              "\n",
              "    .dataframe thead th {\n",
              "        text-align: right;\n",
              "    }\n",
              "</style>\n",
              "<table border=\"1\" class=\"dataframe\">\n",
              "  <thead>\n",
              "    <tr style=\"text-align: right;\">\n",
              "      <th></th>\n",
              "      <th>DateTime</th>\n",
              "      <th>Power U-1</th>\n",
              "      <th>Temperature U-1</th>\n",
              "      <th>Power U-2</th>\n",
              "      <th>Temperature U-2</th>\n",
              "      <th>Power U-3</th>\n",
              "      <th>Temperature U-3</th>\n",
              "      <th>Power U-4</th>\n",
              "      <th>Temperature U-4</th>\n",
              "    </tr>\n",
              "  </thead>\n",
              "  <tbody>\n",
              "    <tr>\n",
              "      <th>0</th>\n",
              "      <td>8/1/17 0:00</td>\n",
              "      <td>2.26</td>\n",
              "      <td>4.81</td>\n",
              "      <td>3.23</td>\n",
              "      <td>0.5</td>\n",
              "      <td>0</td>\n",
              "      <td>8.93</td>\n",
              "      <td>0.31</td>\n",
              "      <td>3.34</td>\n",
              "    </tr>\n",
              "    <tr>\n",
              "      <th>1</th>\n",
              "      <td>8/1/17 0:01</td>\n",
              "      <td>2.2</td>\n",
              "      <td>3.9</td>\n",
              "      <td>3.19</td>\n",
              "      <td>0.25</td>\n",
              "      <td>0</td>\n",
              "      <td>8.9</td>\n",
              "      <td>1.34</td>\n",
              "      <td>3.44</td>\n",
              "    </tr>\n",
              "    <tr>\n",
              "      <th>2</th>\n",
              "      <td>8/1/17 0:02</td>\n",
              "      <td>2.13</td>\n",
              "      <td>3.16</td>\n",
              "      <td>3.18</td>\n",
              "      <td>0</td>\n",
              "      <td>0</td>\n",
              "      <td>8.87</td>\n",
              "      <td>2.37</td>\n",
              "      <td>2.72</td>\n",
              "    </tr>\n",
              "    <tr>\n",
              "      <th>3</th>\n",
              "      <td>8/1/17 0:03</td>\n",
              "      <td>2.14</td>\n",
              "      <td>2.72</td>\n",
              "      <td>3.17</td>\n",
              "      <td>-0.22</td>\n",
              "      <td>0</td>\n",
              "      <td>8.81</td>\n",
              "      <td>2.23</td>\n",
              "      <td>2.13</td>\n",
              "    </tr>\n",
              "    <tr>\n",
              "      <th>4</th>\n",
              "      <td>8/1/17 0:04</td>\n",
              "      <td>1.23</td>\n",
              "      <td>2.31</td>\n",
              "      <td>3.17</td>\n",
              "      <td>-0.5</td>\n",
              "      <td>0</td>\n",
              "      <td>8.81</td>\n",
              "      <td>2.23</td>\n",
              "      <td>1.75</td>\n",
              "    </tr>\n",
              "  </tbody>\n",
              "</table>\n",
              "</div>"
            ],
            "text/plain": [
              "      DateTime Power U-1  ... Power U-4 Temperature U-4\n",
              "0  8/1/17 0:00      2.26  ...      0.31            3.34\n",
              "1  8/1/17 0:01       2.2  ...      1.34            3.44\n",
              "2  8/1/17 0:02      2.13  ...      2.37            2.72\n",
              "3  8/1/17 0:03      2.14  ...      2.23            2.13\n",
              "4  8/1/17 0:04      1.23  ...      2.23            1.75\n",
              "\n",
              "[5 rows x 9 columns]"
            ]
          },
          "metadata": {
            "tags": []
          },
          "execution_count": 44
        }
      ]
    },
    {
      "cell_type": "code",
      "metadata": {
        "id": "I0CbQHnqTwQq",
        "colab_type": "code",
        "outputId": "5a815ae5-9e73-4a66-dc6c-7867d91dc2e5",
        "colab": {
          "base_uri": "https://localhost:8080/",
          "height": 606
        }
      },
      "source": [
        "#Checking values in between\n",
        "df_check = df_X[(df_X['DateTime'] > '8/1/17 2:28') & (df_X['DateTime'] <= '8/1/17 3:58')]\n",
        "\n",
        "df_check.head(90)"
      ],
      "execution_count": 45,
      "outputs": [
        {
          "output_type": "execute_result",
          "data": {
            "text/html": [
              "<div>\n",
              "<style scoped>\n",
              "    .dataframe tbody tr th:only-of-type {\n",
              "        vertical-align: middle;\n",
              "    }\n",
              "\n",
              "    .dataframe tbody tr th {\n",
              "        vertical-align: top;\n",
              "    }\n",
              "\n",
              "    .dataframe thead th {\n",
              "        text-align: right;\n",
              "    }\n",
              "</style>\n",
              "<table border=\"1\" class=\"dataframe\">\n",
              "  <thead>\n",
              "    <tr style=\"text-align: right;\">\n",
              "      <th></th>\n",
              "      <th>DateTime</th>\n",
              "      <th>Power U-1</th>\n",
              "      <th>Temperature U-1</th>\n",
              "      <th>Power U-2</th>\n",
              "      <th>Temperature U-2</th>\n",
              "      <th>Power U-3</th>\n",
              "      <th>Temperature U-3</th>\n",
              "      <th>Power U-4</th>\n",
              "      <th>Temperature U-4</th>\n",
              "    </tr>\n",
              "  </thead>\n",
              "  <tbody>\n",
              "    <tr>\n",
              "      <th>149</th>\n",
              "      <td>8/1/17 2:29</td>\n",
              "      <td>2.37</td>\n",
              "      <td>4.75</td>\n",
              "      <td>3.15</td>\n",
              "      <td>-3.4</td>\n",
              "      <td>2.06</td>\n",
              "      <td>1.94</td>\n",
              "      <td>2.23</td>\n",
              "      <td>2.9469</td>\n",
              "    </tr>\n",
              "    <tr>\n",
              "      <th>150</th>\n",
              "      <td>8/1/17 2:30</td>\n",
              "      <td>2.24</td>\n",
              "      <td>3.81</td>\n",
              "      <td>3.15</td>\n",
              "      <td>-3.53</td>\n",
              "      <td>2.07</td>\n",
              "      <td>1.75</td>\n",
              "      <td>1.37253</td>\n",
              "      <td>1.68</td>\n",
              "    </tr>\n",
              "    <tr>\n",
              "      <th>151</th>\n",
              "      <td>8/1/17 2:31</td>\n",
              "      <td>2.2</td>\n",
              "      <td>3.03</td>\n",
              "      <td>1.77</td>\n",
              "      <td>-3.65</td>\n",
              "      <td>1.18</td>\n",
              "      <td>1.62</td>\n",
              "      <td>1.37253</td>\n",
              "      <td>1.38</td>\n",
              "    </tr>\n",
              "    <tr>\n",
              "      <th>152</th>\n",
              "      <td>8/1/17 2:32</td>\n",
              "      <td>2.22</td>\n",
              "      <td>2.53</td>\n",
              "      <td>0.4</td>\n",
              "      <td>-2.75</td>\n",
              "      <td>0.28</td>\n",
              "      <td>2.03</td>\n",
              "      <td>1.37253</td>\n",
              "      <td>0.94</td>\n",
              "    </tr>\n",
              "    <tr>\n",
              "      <th>153</th>\n",
              "      <td>8/1/17 2:33</td>\n",
              "      <td>0.31</td>\n",
              "      <td>2.28</td>\n",
              "      <td>0.39</td>\n",
              "      <td>-1.53</td>\n",
              "      <td>0.28</td>\n",
              "      <td>2.87</td>\n",
              "      <td>1.37253</td>\n",
              "      <td>0.56</td>\n",
              "    </tr>\n",
              "    <tr>\n",
              "      <th>...</th>\n",
              "      <td>...</td>\n",
              "      <td>...</td>\n",
              "      <td>...</td>\n",
              "      <td>...</td>\n",
              "      <td>...</td>\n",
              "      <td>...</td>\n",
              "      <td>...</td>\n",
              "      <td>...</td>\n",
              "      <td>...</td>\n",
              "    </tr>\n",
              "    <tr>\n",
              "      <th>234</th>\n",
              "      <td>8/1/17 3:54</td>\n",
              "      <td>0.31</td>\n",
              "      <td>4.28</td>\n",
              "      <td>0.39</td>\n",
              "      <td>5.75</td>\n",
              "      <td>2.03</td>\n",
              "      <td>2.25</td>\n",
              "      <td>1.37253</td>\n",
              "      <td>1.56</td>\n",
              "    </tr>\n",
              "    <tr>\n",
              "      <th>235</th>\n",
              "      <td>8/1/17 3:55</td>\n",
              "      <td>0.31</td>\n",
              "      <td>4.59</td>\n",
              "      <td>0.39</td>\n",
              "      <td>6.12</td>\n",
              "      <td>2.06</td>\n",
              "      <td>2</td>\n",
              "      <td>2.28</td>\n",
              "      <td>1.37</td>\n",
              "    </tr>\n",
              "    <tr>\n",
              "      <th>236</th>\n",
              "      <td>8/1/17 3:56</td>\n",
              "      <td>0.31</td>\n",
              "      <td>4.78</td>\n",
              "      <td>0.39</td>\n",
              "      <td>6.78</td>\n",
              "      <td>0.28</td>\n",
              "      <td>1.81</td>\n",
              "      <td>2.27</td>\n",
              "      <td>1.12</td>\n",
              "    </tr>\n",
              "    <tr>\n",
              "      <th>237</th>\n",
              "      <td>8/1/17 3:57</td>\n",
              "      <td>1.37</td>\n",
              "      <td>4.9</td>\n",
              "      <td>0.39</td>\n",
              "      <td>6.91</td>\n",
              "      <td>0.28</td>\n",
              "      <td>2.28</td>\n",
              "      <td>2.29</td>\n",
              "      <td>0.84</td>\n",
              "    </tr>\n",
              "    <tr>\n",
              "      <th>238</th>\n",
              "      <td>8/1/17 3:58</td>\n",
              "      <td>2.33</td>\n",
              "      <td>4.12</td>\n",
              "      <td>0.39</td>\n",
              "      <td>7.28</td>\n",
              "      <td>0.28</td>\n",
              "      <td>3.12</td>\n",
              "      <td>2.32</td>\n",
              "      <td>0.68</td>\n",
              "    </tr>\n",
              "  </tbody>\n",
              "</table>\n",
              "<p>90 rows × 9 columns</p>\n",
              "</div>"
            ],
            "text/plain": [
              "        DateTime Power U-1  ... Power U-4 Temperature U-4\n",
              "149  8/1/17 2:29      2.37  ...      2.23          2.9469\n",
              "150  8/1/17 2:30      2.24  ...   1.37253            1.68\n",
              "151  8/1/17 2:31       2.2  ...   1.37253            1.38\n",
              "152  8/1/17 2:32      2.22  ...   1.37253            0.94\n",
              "153  8/1/17 2:33      0.31  ...   1.37253            0.56\n",
              "..           ...       ...  ...       ...             ...\n",
              "234  8/1/17 3:54      0.31  ...   1.37253            1.56\n",
              "235  8/1/17 3:55      0.31  ...      2.28            1.37\n",
              "236  8/1/17 3:56      0.31  ...      2.27            1.12\n",
              "237  8/1/17 3:57      1.37  ...      2.29            0.84\n",
              "238  8/1/17 3:58      2.33  ...      2.32            0.68\n",
              "\n",
              "[90 rows x 9 columns]"
            ]
          },
          "metadata": {
            "tags": []
          },
          "execution_count": 45
        }
      ]
    },
    {
      "cell_type": "code",
      "metadata": {
        "id": "Tz_41w2SUA34",
        "colab_type": "code",
        "outputId": "41e6eabb-e49e-4bdd-dcb1-3ddc9470091e",
        "colab": {
          "base_uri": "https://localhost:8080/",
          "height": 89
        }
      },
      "source": [
        "# Part-1: Calculating Duty cycle of each Refrigeration Unit\n",
        "d1=0\n",
        "d2=0\n",
        "d3=0\n",
        "d4=0\n",
        "for i in range(len(df_X)):\n",
        "  if df_X['Power U-1'][i]==0:\n",
        "    d1=d1+1\n",
        "  if df_X['Power U-2'][i]==0:\n",
        "    d2=d2+1\n",
        "  if df_X['Power U-3'][i]==0:\n",
        "    d3=d3+1\n",
        "  if df_X['Power U-4'][i]==0:\n",
        "    d4=d4+1\n",
        "\n",
        "d1_max=d1+missing_pu1\n",
        "d2_max=d2+missing_pu2\n",
        "d3_max=d3+missing_pu3\n",
        "d4_max=d4+missing_pu4\n",
        "\n",
        "print(round(100-d1_max/144, 4), \"% <= Duty cycle of Refrigeration Unit-1 <=\", round(100-d1/144, 4), \"%\")\n",
        "print(round(100-d2_max/144, 4), \"% <= Duty cycle of Refrigeration Unit-2 <=\", round(100-d2/144, 4), \"%\")\n",
        "print(round(100-d3_max/144, 4), \"% <= Duty cycle of Refrigeration Unit-3 <=\", round(100-d3/144, 4), \"%\")\n",
        "print(round(100-d4_max/144, 4), \"% <= Duty cycle of Refrigeration Unit-4 <=\", round(100-d4/144, 4), \"%\")\n"
      ],
      "execution_count": 46,
      "outputs": [
        {
          "output_type": "stream",
          "text": [
            "97.1736 % <= Duty cycle of Refrigeration Unit-1 <= 97.7083 %\n",
            "94.5139 % <= Duty cycle of Refrigeration Unit-2 <= 97.9444 %\n",
            "90.1875 % <= Duty cycle of Refrigeration Unit-3 <= 91.8056 %\n",
            "91.1181 % <= Duty cycle of Refrigeration Unit-4 <= 99.7431 %\n"
          ],
          "name": "stdout"
        }
      ]
    },
    {
      "cell_type": "code",
      "metadata": {
        "id": "fedgTOCv5XH3",
        "colab_type": "code",
        "outputId": "2e0c208b-8ccb-4a9f-cf81-00c44fef03d9",
        "colab": {
          "base_uri": "https://localhost:8080/",
          "height": 306
        }
      },
      "source": [
        "df_X.head()"
      ],
      "execution_count": 47,
      "outputs": [
        {
          "output_type": "execute_result",
          "data": {
            "text/html": [
              "<div>\n",
              "<style scoped>\n",
              "    .dataframe tbody tr th:only-of-type {\n",
              "        vertical-align: middle;\n",
              "    }\n",
              "\n",
              "    .dataframe tbody tr th {\n",
              "        vertical-align: top;\n",
              "    }\n",
              "\n",
              "    .dataframe thead th {\n",
              "        text-align: right;\n",
              "    }\n",
              "</style>\n",
              "<table border=\"1\" class=\"dataframe\">\n",
              "  <thead>\n",
              "    <tr style=\"text-align: right;\">\n",
              "      <th></th>\n",
              "      <th>DateTime</th>\n",
              "      <th>Power U-1</th>\n",
              "      <th>Temperature U-1</th>\n",
              "      <th>Power U-2</th>\n",
              "      <th>Temperature U-2</th>\n",
              "      <th>Power U-3</th>\n",
              "      <th>Temperature U-3</th>\n",
              "      <th>Power U-4</th>\n",
              "      <th>Temperature U-4</th>\n",
              "    </tr>\n",
              "  </thead>\n",
              "  <tbody>\n",
              "    <tr>\n",
              "      <th>0</th>\n",
              "      <td>8/1/17 0:00</td>\n",
              "      <td>2.26</td>\n",
              "      <td>4.81</td>\n",
              "      <td>3.23</td>\n",
              "      <td>0.5</td>\n",
              "      <td>0</td>\n",
              "      <td>8.93</td>\n",
              "      <td>0.31</td>\n",
              "      <td>3.34</td>\n",
              "    </tr>\n",
              "    <tr>\n",
              "      <th>1</th>\n",
              "      <td>8/1/17 0:01</td>\n",
              "      <td>2.2</td>\n",
              "      <td>3.9</td>\n",
              "      <td>3.19</td>\n",
              "      <td>0.25</td>\n",
              "      <td>0</td>\n",
              "      <td>8.9</td>\n",
              "      <td>1.34</td>\n",
              "      <td>3.44</td>\n",
              "    </tr>\n",
              "    <tr>\n",
              "      <th>2</th>\n",
              "      <td>8/1/17 0:02</td>\n",
              "      <td>2.13</td>\n",
              "      <td>3.16</td>\n",
              "      <td>3.18</td>\n",
              "      <td>0</td>\n",
              "      <td>0</td>\n",
              "      <td>8.87</td>\n",
              "      <td>2.37</td>\n",
              "      <td>2.72</td>\n",
              "    </tr>\n",
              "    <tr>\n",
              "      <th>3</th>\n",
              "      <td>8/1/17 0:03</td>\n",
              "      <td>2.14</td>\n",
              "      <td>2.72</td>\n",
              "      <td>3.17</td>\n",
              "      <td>-0.22</td>\n",
              "      <td>0</td>\n",
              "      <td>8.81</td>\n",
              "      <td>2.23</td>\n",
              "      <td>2.13</td>\n",
              "    </tr>\n",
              "    <tr>\n",
              "      <th>4</th>\n",
              "      <td>8/1/17 0:04</td>\n",
              "      <td>1.23</td>\n",
              "      <td>2.31</td>\n",
              "      <td>3.17</td>\n",
              "      <td>-0.5</td>\n",
              "      <td>0</td>\n",
              "      <td>8.81</td>\n",
              "      <td>2.23</td>\n",
              "      <td>1.75</td>\n",
              "    </tr>\n",
              "  </tbody>\n",
              "</table>\n",
              "</div>"
            ],
            "text/plain": [
              "      DateTime Power U-1  ... Power U-4 Temperature U-4\n",
              "0  8/1/17 0:00      2.26  ...      0.31            3.34\n",
              "1  8/1/17 0:01       2.2  ...      1.34            3.44\n",
              "2  8/1/17 0:02      2.13  ...      2.37            2.72\n",
              "3  8/1/17 0:03      2.14  ...      2.23            2.13\n",
              "4  8/1/17 0:04      1.23  ...      2.23            1.75\n",
              "\n",
              "[5 rows x 9 columns]"
            ]
          },
          "metadata": {
            "tags": []
          },
          "execution_count": 47
        }
      ]
    },
    {
      "cell_type": "code",
      "metadata": {
        "id": "-FE8_TMLnhA0",
        "colab_type": "code",
        "colab": {
          "base_uri": "https://localhost:8080/",
          "height": 377
        },
        "outputId": "2216ef2e-74eb-4fb0-ca8a-4ff3a7283471"
      },
      "source": [
        "#Part 2: Finding temperature range\n",
        "li_min=[]\n",
        "li_max=[]\n",
        "pl_t = ['Temperature U-1', 'Temperature U-2', 'Temperature U-3', 'Temperature U-4']\n",
        "\n",
        "for t in range(4):\n",
        "  req=pl_t[t]\n",
        "  minval=min(df_X[req])\n",
        "  maxval=max(df_X[req])\n",
        "  li_min.append(minval)\n",
        "  li_max.append(maxval)\n",
        "  print(\"#Unit -\", t+1)\n",
        "  print(\"Minimum value of temperature \", \"of Unit-\", t+1, \"=\", minval)\n",
        "  print(\"Maximum value of temperature \", \"of Unit-\", t+1, \"=\", maxval)\n",
        "  print(\"Temperature range\", \"of Unit-\", t+1, \"=\", round(maxval-minval, 3))\n",
        "  print()"
      ],
      "execution_count": 48,
      "outputs": [
        {
          "output_type": "stream",
          "text": [
            "#Unit - 1\n",
            "Minimum value of temperature  of Unit- 1 = 1.65\n",
            "Maximum value of temperature  of Unit- 1 = 102.38\n",
            "Temperature range of Unit- 1 = 100.73\n",
            "\n",
            "#Unit - 2\n",
            "Minimum value of temperature  of Unit- 2 = -4.09\n",
            "Maximum value of temperature  of Unit- 2 = 102.63\n",
            "Temperature range of Unit- 2 = 106.72\n",
            "\n",
            "#Unit - 3\n",
            "Minimum value of temperature  of Unit- 3 = 1.09\n",
            "Maximum value of temperature  of Unit- 3 = 101.91\n",
            "Temperature range of Unit- 3 = 100.82\n",
            "\n",
            "#Unit - 4\n",
            "Minimum value of temperature  of Unit- 4 = 0.19\n",
            "Maximum value of temperature  of Unit- 4 = 101.66\n",
            "Temperature range of Unit- 4 = 101.47\n",
            "\n"
          ],
          "name": "stdout"
        }
      ]
    },
    {
      "cell_type": "code",
      "metadata": {
        "id": "ROjyUaAjoJNf",
        "colab_type": "code",
        "colab": {
          "base_uri": "https://localhost:8080/",
          "height": 881
        },
        "outputId": "72c49ae2-af4a-4763-b228-a9e459b1eaff"
      },
      "source": [
        "#Calculating average temperature value\n",
        "avg_temperature_cons=[]\n",
        "temp_comp=[]\n",
        "avgtemp=[]\n",
        "\n",
        "for t in range(4):\n",
        "  li_t=[]\n",
        "  c=0\n",
        "  req_t = pl_t[t]\n",
        "  for k in range(10):\n",
        "    temp_t=0\n",
        "    j=k*1440\n",
        "    for i in range(j, j+1440):\n",
        "      temp_t=temp_t+df_X[req_t][i]\n",
        "    \n",
        "    temp_t=temp_t/1440\n",
        "    temp_t=round(temp_t, 3)\n",
        "    if 1<=temp_t<=4:\n",
        "      c=c+1\n",
        "    li_t.append(temp_t)\n",
        "  temp_comp.append(c)\n",
        "\n",
        "  avg_temperature_cons.append(li_t)\n",
        "  print(\"For Refrigeration Unit: \", t+1)\n",
        "  for i in range(10):\n",
        "    print(\"Average temperature on Day-\", i+1,  \"of Unit-\", t+1, \"=\", li_t[i])\n",
        "  \n",
        "  print()\n",
        "  "
      ],
      "execution_count": 49,
      "outputs": [
        {
          "output_type": "stream",
          "text": [
            "For Refrigeration Unit:  1\n",
            "Average temperature on Day- 1 of Unit- 1 = 3.682\n",
            "Average temperature on Day- 2 of Unit- 1 = 4.006\n",
            "Average temperature on Day- 3 of Unit- 1 = 3.704\n",
            "Average temperature on Day- 4 of Unit- 1 = 3.746\n",
            "Average temperature on Day- 5 of Unit- 1 = 3.678\n",
            "Average temperature on Day- 6 of Unit- 1 = 3.926\n",
            "Average temperature on Day- 7 of Unit- 1 = 3.882\n",
            "Average temperature on Day- 8 of Unit- 1 = 3.793\n",
            "Average temperature on Day- 9 of Unit- 1 = 3.968\n",
            "Average temperature on Day- 10 of Unit- 1 = 3.796\n",
            "\n",
            "For Refrigeration Unit:  2\n",
            "Average temperature on Day- 1 of Unit- 2 = 1.969\n",
            "Average temperature on Day- 2 of Unit- 2 = 1.884\n",
            "Average temperature on Day- 3 of Unit- 2 = 2.503\n",
            "Average temperature on Day- 4 of Unit- 2 = 1.849\n",
            "Average temperature on Day- 5 of Unit- 2 = 2.225\n",
            "Average temperature on Day- 6 of Unit- 2 = 1.971\n",
            "Average temperature on Day- 7 of Unit- 2 = 2.066\n",
            "Average temperature on Day- 8 of Unit- 2 = 2.138\n",
            "Average temperature on Day- 9 of Unit- 2 = 1.991\n",
            "Average temperature on Day- 10 of Unit- 2 = 2.3\n",
            "\n",
            "For Refrigeration Unit:  3\n",
            "Average temperature on Day- 1 of Unit- 3 = 3.517\n",
            "Average temperature on Day- 2 of Unit- 3 = 4.173\n",
            "Average temperature on Day- 3 of Unit- 3 = 4.372\n",
            "Average temperature on Day- 4 of Unit- 3 = 2.824\n",
            "Average temperature on Day- 5 of Unit- 3 = 4.393\n",
            "Average temperature on Day- 6 of Unit- 3 = 4.02\n",
            "Average temperature on Day- 7 of Unit- 3 = 7.118\n",
            "Average temperature on Day- 8 of Unit- 3 = 4.085\n",
            "Average temperature on Day- 9 of Unit- 3 = 3.551\n",
            "Average temperature on Day- 10 of Unit- 3 = 3.154\n",
            "\n",
            "For Refrigeration Unit:  4\n",
            "Average temperature on Day- 1 of Unit- 4 = 2.406\n",
            "Average temperature on Day- 2 of Unit- 4 = 2.623\n",
            "Average temperature on Day- 3 of Unit- 4 = 2.313\n",
            "Average temperature on Day- 4 of Unit- 4 = 6.733\n",
            "Average temperature on Day- 5 of Unit- 4 = 2.454\n",
            "Average temperature on Day- 6 of Unit- 4 = 3.119\n",
            "Average temperature on Day- 7 of Unit- 4 = 2.437\n",
            "Average temperature on Day- 8 of Unit- 4 = 2.554\n",
            "Average temperature on Day- 9 of Unit- 4 = 2.375\n",
            "Average temperature on Day- 10 of Unit- 4 = 2.456\n",
            "\n"
          ],
          "name": "stdout"
        }
      ]
    },
    {
      "cell_type": "code",
      "metadata": {
        "id": "KHiZ0_NYKuQ8",
        "colab_type": "code",
        "colab": {
          "base_uri": "https://localhost:8080/",
          "height": 89
        },
        "outputId": "36b0e0e3-9617-4d31-9ab8-0c600122f379"
      },
      "source": [
        "for i in range(4):\n",
        "  val = sum(avg_temperature_cons[i])/10\n",
        "  val=round(val, 3)\n",
        "  avgtemp.append(val)\n",
        "  print(\"Average temperature of Unit-\", i+1, \"=\", val)"
      ],
      "execution_count": 59,
      "outputs": [
        {
          "output_type": "stream",
          "text": [
            "Average temperature of Unit- 1 = 3.818\n",
            "Average temperature of Unit- 2 = 2.09\n",
            "Average temperature of Unit- 3 = 4.121\n",
            "Average temperature of Unit- 4 = 2.947\n"
          ],
          "name": "stdout"
        }
      ]
    },
    {
      "cell_type": "code",
      "metadata": {
        "id": "WoG2QAz_ux9u",
        "colab_type": "code",
        "colab": {
          "base_uri": "https://localhost:8080/",
          "height": 35
        },
        "outputId": "1c0f5c91-a3b4-4140-940a-236802dcc05d"
      },
      "source": [
        "print(avgtemp)"
      ],
      "execution_count": 60,
      "outputs": [
        {
          "output_type": "stream",
          "text": [
            "[3.818, 2.09, 4.121, 2.947]\n"
          ],
          "name": "stdout"
        }
      ]
    },
    {
      "cell_type": "code",
      "metadata": {
        "id": "DYTbSWe_ufSb",
        "colab_type": "code",
        "colab": {
          "base_uri": "https://localhost:8080/",
          "height": 313
        },
        "outputId": "132b8377-dd2a-4480-b55d-18970040d1d6"
      },
      "source": [
        "#Ploting average daily temperature\n",
        "l_day=[1, 2, 3, 4, 5, 6, 7, 8, 9, 10]\n",
        "plt.plot(l_day, avg_temperature_cons[0], label='for Unit-1')\n",
        "plt.plot(l_day, avg_temperature_cons[1], label='for Unit-2')\n",
        "plt.plot(l_day, avg_temperature_cons[2], label='for Unit-3')\n",
        "plt.plot(l_day, avg_temperature_cons[3], label='for Unit-4')\n",
        "plt.xlabel(\"Day\")\n",
        "plt.ylabel(\"Average Temperature\")\n",
        "plt.title('Day wise average Temperature of all Refrigeration Units')\n",
        "plt.xticks(np.arange(0, 11, 1)) \n",
        "plt.yticks(np.arange(1, 9, 1)) \n",
        "plt.legend()"
      ],
      "execution_count": 61,
      "outputs": [
        {
          "output_type": "execute_result",
          "data": {
            "text/plain": [
              "<matplotlib.legend.Legend at 0x7f4f6f71ada0>"
            ]
          },
          "metadata": {
            "tags": []
          },
          "execution_count": 61
        },
        {
          "output_type": "display_data",
          "data": {
            "image/png": "[encoded data removed]",
            "text/plain": [
              "<Figure size 432x288 with 1 Axes>"
            ]
          },
          "metadata": {
            "tags": []
          }
        }
      ]
    },
    {
      "cell_type": "code",
      "metadata": {
        "id": "FDgQ_ZllU9C1",
        "colab_type": "code",
        "outputId": "ce9e3d59-0dff-464a-ed0d-4f0e38d30983",
        "colab": {
          "base_uri": "https://localhost:8080/",
          "height": 881
        }
      },
      "source": [
        "#Part 3: Calculating average daily energy consumption\n",
        "pl = ['Power U-1', 'Power U-2', 'Power U-3', 'Power U-4']\n",
        "avg_energy_cons=[]\n",
        "avgpow=[]\n",
        "\n",
        "for t in range(4):\n",
        "  li=[]\n",
        "  req = pl[t]\n",
        "  for k in range(10):\n",
        "    temp=0\n",
        "    j=k*1440\n",
        "    for i in range(j, j+1440):\n",
        "      temp=temp+df_X[req][i]\n",
        "    \n",
        "    temp=temp/1440\n",
        "    temp=round(temp, 3)\n",
        "    li.append(temp)\n",
        "\n",
        "  avg_energy_cons.append(li)\n",
        "  print(\"For Unit:\", t+1)\n",
        "  for i in range(10):\n",
        "    print(\"Average energy consumption on Day-\", i+1, \"=\", li[i])\n",
        "  print()"
      ],
      "execution_count": 62,
      "outputs": [
        {
          "output_type": "stream",
          "text": [
            "For Unit: 1\n",
            "Average energy consumption on Day- 1 = 1.195\n",
            "Average energy consumption on Day- 2 = 1.142\n",
            "Average energy consumption on Day- 3 = 1.085\n",
            "Average energy consumption on Day- 4 = 1.167\n",
            "Average energy consumption on Day- 5 = 1.127\n",
            "Average energy consumption on Day- 6 = 1.24\n",
            "Average energy consumption on Day- 7 = 1.085\n",
            "Average energy consumption on Day- 8 = 1.062\n",
            "Average energy consumption on Day- 9 = 1.05\n",
            "Average energy consumption on Day- 10 = 1.084\n",
            "\n",
            "For Unit: 2\n",
            "Average energy consumption on Day- 1 = 1.669\n",
            "Average energy consumption on Day- 2 = 1.608\n",
            "Average energy consumption on Day- 3 = 1.664\n",
            "Average energy consumption on Day- 4 = 1.747\n",
            "Average energy consumption on Day- 5 = 1.883\n",
            "Average energy consumption on Day- 6 = 1.776\n",
            "Average energy consumption on Day- 7 = 1.624\n",
            "Average energy consumption on Day- 8 = 1.739\n",
            "Average energy consumption on Day- 9 = 1.633\n",
            "Average energy consumption on Day- 10 = 1.743\n",
            "\n",
            "For Unit: 3\n",
            "Average energy consumption on Day- 1 = 1.513\n",
            "Average energy consumption on Day- 2 = 1.618\n",
            "Average energy consumption on Day- 3 = 1.578\n",
            "Average energy consumption on Day- 4 = 1.562\n",
            "Average energy consumption on Day- 5 = 1.681\n",
            "Average energy consumption on Day- 6 = 1.625\n",
            "Average energy consumption on Day- 7 = 1.149\n",
            "Average energy consumption on Day- 8 = 1.797\n",
            "Average energy consumption on Day- 9 = 1.643\n",
            "Average energy consumption on Day- 10 = 1.872\n",
            "\n",
            "For Unit: 4\n",
            "Average energy consumption on Day- 1 = 1.252\n",
            "Average energy consumption on Day- 2 = 1.377\n",
            "Average energy consumption on Day- 3 = 1.337\n",
            "Average energy consumption on Day- 4 = 1.15\n",
            "Average energy consumption on Day- 5 = 1.48\n",
            "Average energy consumption on Day- 6 = 1.432\n",
            "Average energy consumption on Day- 7 = 1.425\n",
            "Average energy consumption on Day- 8 = 1.382\n",
            "Average energy consumption on Day- 9 = 1.459\n",
            "Average energy consumption on Day- 10 = 1.431\n",
            "\n"
          ],
          "name": "stdout"
        }
      ]
    },
    {
      "cell_type": "code",
      "metadata": {
        "id": "wviu6AXaTJ-_",
        "colab_type": "code",
        "colab": {
          "base_uri": "https://localhost:8080/",
          "height": 89
        },
        "outputId": "dd6e7a06-d1a1-405e-97eb-1f7a39bc3989"
      },
      "source": [
        "for i in range(4):\n",
        "  val = sum(avg_energy_cons[i])/10\n",
        "  val=round(val, 3)\n",
        "  avgpow.append(val)\n",
        "  print(\"Average energy consumption of Unit-\", i+1, \"=\", val)"
      ],
      "execution_count": 63,
      "outputs": [
        {
          "output_type": "stream",
          "text": [
            "Average energy consumption of Unit- 1 = 1.124\n",
            "Average energy consumption of Unit- 2 = 1.709\n",
            "Average energy consumption of Unit- 3 = 1.604\n",
            "Average energy consumption of Unit- 4 = 1.373\n"
          ],
          "name": "stdout"
        }
      ]
    },
    {
      "cell_type": "code",
      "metadata": {
        "id": "ggV_ZftHGif0",
        "colab_type": "code",
        "colab": {
          "base_uri": "https://localhost:8080/",
          "height": 35
        },
        "outputId": "5ee81910-dddb-4da8-92c2-fcfc23553865"
      },
      "source": [
        "print(avgpow)"
      ],
      "execution_count": 64,
      "outputs": [
        {
          "output_type": "stream",
          "text": [
            "[1.124, 1.709, 1.604, 1.373]\n"
          ],
          "name": "stdout"
        }
      ]
    },
    {
      "cell_type": "code",
      "metadata": {
        "id": "e05DS6DmUxSg",
        "colab_type": "code",
        "colab": {
          "base_uri": "https://localhost:8080/",
          "height": 313
        },
        "outputId": "69ad4f4a-874c-48c4-bdea-33e0db9d0317"
      },
      "source": [
        "#Ploting daily energy consumption\n",
        "plt.plot(l_day, avg_energy_cons[0], label='for Unit-1')\n",
        "plt.plot(l_day, avg_energy_cons[1], label='for Unit-2')\n",
        "plt.plot(l_day, avg_energy_cons[2], label='for Unit-3')\n",
        "plt.plot(l_day, avg_energy_cons[3], label='for Unit-4')\n",
        "\n",
        "plt.xlabel(\"Day\")\n",
        "plt.ylabel(\"Average Energy Consumption\")\n",
        "plt.title('Day wise average Energy consumption of all Refrigeration Units')\n",
        "plt.xticks(np.arange(0, 11, 1)) \n",
        "plt.yticks(np.arange(1, 2.2, 0.1)) \n",
        "plt.legend()"
      ],
      "execution_count": 65,
      "outputs": [
        {
          "output_type": "execute_result",
          "data": {
            "text/plain": [
              "<matplotlib.legend.Legend at 0x7f4f6f70b4e0>"
            ]
          },
          "metadata": {
            "tags": []
          },
          "execution_count": 65
        },
        {
          "output_type": "display_data",
          "data": {
            "image/png": "[encoded data removed]",
            "text/plain": [
              "<Figure size 432x288 with 1 Axes>"
            ]
          },
          "metadata": {
            "tags": []
          }
        }
      ]
    },
    {
      "cell_type": "code",
      "metadata": {
        "id": "jRhIEGQ9WKzn",
        "colab_type": "code",
        "outputId": "99899150-32d6-4f68-f877-050e67cb8b85",
        "colab": {
          "base_uri": "https://localhost:8080/",
          "height": 89
        }
      },
      "source": [
        "#Part:4 Percentage of temperature compilance\n",
        "tl = ['Temperature U-1', 'Temperature U-2', 'Temperature U-3', 'Temperature U-4']\n",
        "\n",
        "for t in range(4):\n",
        "  li_T=[]\n",
        "  req=tl[t]\n",
        "  c=0\n",
        "  for k in range(14400):\n",
        "    if (1<=df_X[req][k]<=4):\n",
        "      c=c+1\n",
        "\n",
        "  li_T.append(c)\n",
        "  print(\"Percentage of temperature compliance\", \"by Refrigeration Unit-\", t+1, \"=\", round(c/144, 3), \"%\")\n"
      ],
      "execution_count": 66,
      "outputs": [
        {
          "output_type": "stream",
          "text": [
            "Percentage of temperature compliance by Refrigeration Unit- 1 = 55.792 %\n",
            "Percentage of temperature compliance by Refrigeration Unit- 2 = 33.688 %\n",
            "Percentage of temperature compliance by Refrigeration Unit- 3 = 73.125 %\n",
            "Percentage of temperature compliance by Refrigeration Unit- 4 = 86.792 %\n"
          ],
          "name": "stdout"
        }
      ]
    },
    {
      "cell_type": "code",
      "metadata": {
        "id": "06AjMEGUY7bu",
        "colab_type": "code",
        "colab": {
          "base_uri": "https://localhost:8080/",
          "height": 313
        },
        "outputId": "dfd7f249-d9ad-4b69-e753-b2dd52b80f64"
      },
      "source": [
        "unit_val=[1, 2, 3, 4]\n",
        "plt.plot(unit_val, avgtemp, color='g', label='of Temperature')\n",
        "plt.plot(unit_val, avgpow, color='orange', label='of Energy consumption')\n",
        "plt.xlabel('Refrigeration Unit')\n",
        "plt.ylabel('Average values')\n",
        "plt.title('Refrigeration Unit wise Temperature-Power comparision')\n",
        "plt.xticks(np.arange(1, 5, 1)) \n",
        "plt.yticks(np.arange(1, 4.4, 0.4)) \n",
        "plt.legend()"
      ],
      "execution_count": 67,
      "outputs": [
        {
          "output_type": "execute_result",
          "data": {
            "text/plain": [
              "<matplotlib.legend.Legend at 0x7f4f6f614630>"
            ]
          },
          "metadata": {
            "tags": []
          },
          "execution_count": 67
        },
        {
          "output_type": "display_data",
          "data": {
            "image/png": "[encoded data removed]",
            "text/plain": [
              "<Figure size 432x288 with 1 Axes>"
            ]
          },
          "metadata": {
            "tags": []
          }
        }
      ]
    }
  ]
}